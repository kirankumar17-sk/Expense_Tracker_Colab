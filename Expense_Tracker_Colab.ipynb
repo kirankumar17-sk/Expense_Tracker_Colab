{
 "cells": [
  {
   "cell_type": "markdown",
   "metadata": {},
   "source": [
    "# 💰 Personal Expense Tracker (Google Colab Version)\n",
    "\n",
    "**Description:** A simple expense tracker built using Python and SQLite3, with output formatting using PrettyTable.\n",
    "\n",
    "**Features:**\n",
    "- Add an expense\n",
    "- View all expenses\n",
    "- View summary grouped by category\n",
    "\n",
    "**Tools:** Python, SQLite, PrettyTable\n",
    "\n",
    "---"
   ]
  },
  {
   "cell_type": "code",
   "execution_count": 4,
   "metadata": {},
   "outputs": [
    {
     "name": "stdout",
     "output_type": "stream",
     "text": [
      "Defaulting to user installation because normal site-packages is not writeable\n",
      "Requirement already satisfied: prettytable in c:\\users\\kiran\\appdata\\roaming\\python\\python312\\site-packages (3.16.0)\n",
      "Requirement already satisfied: wcwidth in c:\\users\\kiran\\appdata\\roaming\\python\\python312\\site-packages (from prettytable) (0.2.13)\n"
     ]
    },
    {
     "name": "stderr",
     "output_type": "stream",
     "text": [
      "\n",
      "[notice] A new release of pip is available: 24.2 -> 25.1.1\n",
      "[notice] To update, run: python.exe -m pip install --upgrade pip\n"
     ]
    }
   ],
   "source": [
    "# Install PrettyTable (run once)\n",
    "!pip install prettytable"
   ]
  },
  {
   "cell_type": "code",
   "execution_count": 6,
   "metadata": {},
   "outputs": [],
   "source": [
    "# Database setup\n",
    "import sqlite3\n",
    "\n",
    "def connect_db():\n",
    "    return sqlite3.connect(\"expenses.db\")\n",
    "\n",
    "def create_table():\n",
    "    with connect_db() as conn:\n",
    "        conn.execute(\"\"\"\n",
    "        CREATE TABLE IF NOT EXISTS expenses (\n",
    "            id INTEGER PRIMARY KEY AUTOINCREMENT,\n",
    "            category TEXT,\n",
    "            amount REAL,\n",
    "            date TEXT\n",
    "        )\n",
    "        \"\"\")"
   ]
  },
  {
   "cell_type": "code",
   "execution_count": 8,
   "metadata": {},
   "outputs": [],
   "source": [
    "# Expense management logic\n",
    "from datetime import datetime\n",
    "from prettytable import PrettyTable\n",
    "\n",
    "def add_expense(category, amount):\n",
    "    date = datetime.now().strftime(\"%Y-%m-%d\")\n",
    "    with connect_db() as conn:\n",
    "        conn.execute(\"INSERT INTO expenses (category, amount, date) VALUES (?, ?, ?)\", (category, amount, date))\n",
    "    print(\"✅ Expense added!\")\n",
    "\n",
    "def view_expenses():\n",
    "    with connect_db() as conn:\n",
    "        cursor = conn.execute(\"SELECT * FROM expenses\")\n",
    "        table = PrettyTable([\"ID\", \"Category\", \"Amount\", \"Date\"])\n",
    "        for row in cursor:\n",
    "            table.add_row(row)\n",
    "        print(table)\n",
    "\n",
    "def summary_by_category():\n",
    "    with connect_db() as conn:\n",
    "        cursor = conn.execute(\"SELECT category, SUM(amount) FROM expenses GROUP BY category\")\n",
    "        table = PrettyTable([\"Category\", \"Total Spent\"])\n",
    "        for row in cursor:\n",
    "            table.add_row(row)\n",
    "        print(table)"
   ]
  },
  {
   "cell_type": "code",
   "execution_count": 9,
   "metadata": {},
   "outputs": [],
   "source": [
    "# Initialize DB\n",
    "create_table()"
   ]
  },
  {
   "cell_type": "code",
   "execution_count": 10,
   "metadata": {},
   "outputs": [
    {
     "name": "stdout",
     "output_type": "stream",
     "text": [
      "✅ Expense added!\n",
      "✅ Expense added!\n",
      "+----+-----------+--------+------------+\n",
      "| ID |  Category | Amount |    Date    |\n",
      "+----+-----------+--------+------------+\n",
      "| 1  |    Food   | 150.0  | 2025-08-05 |\n",
      "| 2  | Transport |  70.0  | 2025-08-05 |\n",
      "+----+-----------+--------+------------+\n",
      "+-----------+-------------+\n",
      "|  Category | Total Spent |\n",
      "+-----------+-------------+\n",
      "|    Food   |    150.0    |\n",
      "| Transport |     70.0    |\n",
      "+-----------+-------------+\n"
     ]
    }
   ],
   "source": [
    "# Sample Usage:\n",
    "add_expense(\"Food\", 150)\n",
    "add_expense(\"Transport\", 70)\n",
    "view_expenses()\n",
    "summary_by_category()"
   ]
  }
 ],
 "metadata": {
  "kernelspec": {
   "display_name": "Python 3",
   "language": "python",
   "name": "python3"
  },
  "language_info": {
   "codemirror_mode": {
    "name": "ipython",
    "version": 3
   },
   "file_extension": ".py",
   "mimetype": "text/x-python",
   "name": "python",
   "nbconvert_exporter": "python",
   "pygments_lexer": "ipython3",
   "version": "3.12.0"
  }
 },
 "nbformat": 4,
 "nbformat_minor": 2
}
